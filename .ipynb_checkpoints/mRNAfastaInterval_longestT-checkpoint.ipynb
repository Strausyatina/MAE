{
 "cells": [
  {
   "cell_type": "code",
   "execution_count": null,
   "metadata": {
    "collapsed": true
   },
   "outputs": [],
   "source": [
    "'''\n",
    "\"--fast\" -- path to fasta\n",
    "\"--gtf\" -- path to gtf file\n",
    "\"--chr\" -- chromosome\n",
    "\"--s\",\"--e\" -- interval on chromosome\n",
    "\"--o\" -- path to folder for output, with no '/' at the end\n",
    "'''\n",
    "\n",
    "import argparse"
   ]
  },
  {
   "cell_type": "code",
   "execution_count": 11,
   "metadata": {
    "collapsed": false
   },
   "outputs": [
    {
     "data": {
      "text/plain": [
       "['ENSMUSG00000022141',\n",
       " 'ENSMUSG00000078850',\n",
       " 'ENSMUSG00000095663',\n",
       " 'ENSMUSG00000005360',\n",
       " 'ENSMUSG00000022144',\n",
       " 'ENSMUSG00000039828',\n",
       " 'ENSMUSG00000064566',\n",
       " 'ENSMUSG00000039801',\n",
       " 'ENSMUSG00000022142']"
      ]
     },
     "execution_count": 11,
     "metadata": {},
     "output_type": "execute_result"
    }
   ],
   "source": [
    "def getGenesOnSegment (gtf, chrom, I):\n",
    "    geneSet = set()\n",
    "    with open (gtf, 'r') as S:\n",
    "        for line in S:\n",
    "            if line.startswith('#'):\n",
    "                continue\n",
    "            row = line.strip().split('\\t')\n",
    "            if int(row[4])<=I[0] or I[1]<=int(row[3]):\n",
    "                    continue\n",
    "            if row[0] == str(chrom) and row[2] == \"exon\":\n",
    "                infoList = [item.split('\"') for item in row[8].replace(' ','').split(';')[:-1]]\n",
    "                info = {item[0]:item[1] for item in infoList}\n",
    "                if 'gene_id' in info.keys():\n",
    "                    geneSet.add(info['gene_id'])\n",
    "    return list(geneSet)\n",
    "\n",
    "#getGenesOnSegment(\"Mus_musculus.GRCm38.68.gtf\", 15, [7811054, 8708742])"
   ]
  },
  {
   "cell_type": "code",
   "execution_count": 57,
   "metadata": {
    "collapsed": false
   },
   "outputs": [],
   "source": [
    "def obtainGenesAndLongestTranscripts (gtf, genes, GToutput): \n",
    "    with open (gtf, 'r') as S:\n",
    "        coords = [10**20,0]\n",
    "        dictTrLen = {}\n",
    "        dictTrCoords = {}\n",
    "        dictG = {}\n",
    "        for line in S:\n",
    "            if line.startswith('#'):\n",
    "                continue\n",
    "            row = line.strip().split('\\t')\n",
    "            if row[2] == \"exon\":\n",
    "                infoList = [item.split('\"') for item in row[8].replace(' ','').split(';')[:-1]]\n",
    "                info = {item[0]:item[1] for item in infoList}\n",
    "                if 'gene_id' in info.keys():\n",
    "                    geneID = info['gene_id']\n",
    "                    if geneID in genes:\n",
    "                        s , e = int(row[3]) , int(row[4])\n",
    "                        if s < coords[0]:\n",
    "                            coords[0] = s\n",
    "                        if e > coords[1]:\n",
    "                            coords[1] = e\n",
    "                        #print(geneName, \",\", info[\"gene_id\"] ,\",\", \n",
    "                        #      info[\"transcript_id\"], \" : \", \n",
    "                        #      s, \"-\", e)\n",
    "                        if info[\"gene_id\"] in dictG.keys():\n",
    "                            if info[\"transcript_id\"] not in dictG[info[\"gene_id\"]]:\n",
    "                                dictG[info[\"gene_id\"]].append(info[\"transcript_id\"])\n",
    "                        else: \n",
    "                            dictG[info[\"gene_id\"]] = [info[\"transcript_id\"]]\n",
    "                        if info[\"transcript_id\"] in dictTrLen.keys():\n",
    "                            dictTrLen[info[\"transcript_id\"]] += e-s+1\n",
    "                            dictTrCoords[info[\"transcript_id\"]].append((row[0],s,e))\n",
    "                        else:\n",
    "                            dictTrLen[info[\"transcript_id\"]] = e-s+1\n",
    "                            dictTrCoords[info[\"transcript_id\"]] = [(row[0],s,e)]\n",
    "    #print(coords)        \n",
    "    #129: [4837602, 5812851]\n",
    "    #CAST: [4782800, 5745899]\n",
    "    #38: [7811054, 8708742]\n",
    "    \n",
    "    GT = {}\n",
    "    GTcoords = {}\n",
    "    with open (GToutput, 'w') as f:\n",
    "        f.write (\"#GeneID\" + '\\t' + \"LongestTranscriptID\" + '\\n')\n",
    "        for item in dictG:\n",
    "            maxL = 0\n",
    "            maxT = ''\n",
    "            for jtem in dictG[item]:\n",
    "                l = int(dictTrLen[jtem])\n",
    "                if maxL < l:\n",
    "                    maxL , maxT , maxTcoords = l , jtem , dictTrCoords[jtem]\n",
    "                #print(item, jtem, dictTrLen[jtem])\n",
    "            GT[item] = maxT\n",
    "            GTcoords[maxT] = maxTcoords\n",
    "            f.write(item + '\\t' + maxT + '\\n')\n",
    "    #print(GT)        \n",
    "    return GT , GTcoords"
   ]
  },
  {
   "cell_type": "code",
   "execution_count": 46,
   "metadata": {
    "collapsed": false
   },
   "outputs": [
    {
     "name": "stdout",
     "output_type": "stream",
     "text": [
      "{'ENSMUSG00000095663': [('15', 8518916, 8519953), ('15', 8518683, 8518775)], 'ENSMUSG00000064566': [('15', 8220004, 8220114)], 'ENSMUSG00000022142': [('15', 8109313, 8109602), ('15', 8112283, 8112420), ('15', 8113644, 8113740), ('15', 8115479, 8115549), ('15', 8116430, 8116522), ('15', 8117234, 8117400), ('15', 8117982, 8118087), ('15', 8119179, 8119252), ('15', 8120434, 8120525), ('15', 8121463, 8121560), ('15', 8122056, 8122208), ('15', 8124223, 8124323), ('15', 8128408, 8128578), ('15', 8130125, 8130235), ('15', 8131462, 8131556), ('15', 8134075, 8134163), ('15', 8134663, 8134725), ('15', 8135758, 8135905), ('15', 8136633, 8136699), ('15', 8137854, 8137969), ('15', 8139851, 8139948), ('15', 8141229, 8141359), ('15', 8142968, 8143159), ('15', 8144051, 8144189), ('15', 8145488, 8145623), ('15', 8147143, 8147296), ('15', 8147498, 8147602), ('15', 8148297, 8148451), ('15', 8150758, 8150887), ('15', 8151713, 8151826), ('15', 8153116, 8153236), ('15', 8153640, 8153750), ('15', 8154916, 8155052), ('15', 8156686, 8156792), ('15', 8157626, 8159857)], 'ENSMUSG00000039828': [('15', 8099119, 8099209), ('15', 8098956, 8099021), ('15', 8093676, 8093759), ('15', 8082462, 8082582), ('15', 8079160, 8079364), ('15', 8046430, 8046489), ('15', 8042711, 8042844), ('15', 8035731, 8035884), ('15', 8019589, 8019665), ('15', 7976968, 7977142), ('15', 7924208, 7924307), ('15', 7922069, 7922153), ('15', 7920487, 7920625), ('15', 7889076, 7889176), ('15', 7887329, 7887408), ('15', 7885563, 7885679), ('15', 7884281, 7884443), ('15', 7873055, 7873253)], 'ENSMUSG00000005360': [('15', 8649543, 8651506), ('15', 8645660, 8645952), ('15', 8642900, 8643133), ('15', 8642182, 8642376), ('15', 8639056, 8639190), ('15', 8634726, 8636339)], 'ENSMUSG00000022144': [('15', 7811011, 7811114), ('15', 7815589, 7815765), ('15', 7834348, 7837575)], 'ENSMUSG00000039801': [('15', 8169106, 8169489), ('15', 8170306, 8170394), ('15', 8171693, 8171821), ('15', 8174726, 8174861), ('15', 8174957, 8175076), ('15', 8176119, 8176351), ('15', 8178337, 8178443), ('15', 8179758, 8179914), ('15', 8180879, 8180982), ('15', 8182116, 8182298), ('15', 8186083, 8186332), ('15', 8186499, 8186651), ('15', 8186824, 8187578), ('15', 8188387, 8188595), ('15', 8188797, 8188877), ('15', 8194324, 8194488), ('15', 8199181, 8199339), ('15', 8201134, 8201362), ('15', 8202194, 8202333), ('15', 8203261, 8203478), ('15', 8203673, 8203837), ('15', 8209962, 8210100), ('15', 8212369, 8212478), ('15', 8212629, 8212787), ('15', 8213707, 8213815), ('15', 8216308, 8216599), ('15', 8218423, 8219395), ('15', 8220858, 8220967), ('15', 8221783, 8221949), ('15', 8222337, 8222407), ('15', 8223071, 8223150), ('15', 8226913, 8227093), ('15', 8227286, 8227567), ('15', 8228590, 8229330), ('15', 8230215, 8230369), ('15', 8231112, 8231241), ('15', 8232046, 8232100), ('15', 8233764, 8233868), ('15', 8242270, 8242341), ('15', 8243803, 8243912), ('15', 8244221, 8244413), ('15', 8244609, 8244761), ('15', 8246906, 8247255), ('15', 8250977, 8251064), ('15', 8252149, 8252313), ('15', 8258314, 8258344), ('15', 8259734, 8259865), ('15', 8260520, 8260685), ('15', 8262327, 8262385), ('15', 8262928, 8263080), ('15', 8264329, 8264441), ('15', 8269619, 8269797), ('15', 8270679, 8271158)], 'ENSMUSG00000078850': [('15', 8529135, 8529434)], 'ENSMUSG00000022141': [('15', 8444125, 8444463), ('15', 8373960, 8374102), ('15', 8372031, 8372196), ('15', 8369461, 8369588), ('15', 8366630, 8366729), ('15', 8365792, 8365943), ('15', 8361718, 8361878), ('15', 8360916, 8361012), ('15', 8358640, 8359266), ('15', 8350204, 8351811), ('15', 8343475, 8343657), ('15', 8338875, 8339072), ('15', 8338681, 8338752), ('15', 8338509, 8338598), ('15', 8336854, 8336957), ('15', 8335184, 8335270), ('15', 8334850, 8335081), ('15', 8333581, 8333732), ('15', 8333008, 8333088), ('15', 8332389, 8332489), ('15', 8330178, 8330316), ('15', 8328392, 8328474), ('15', 8327745, 8327877), ('15', 8326999, 8327142), ('15', 8325684, 8325773), ('15', 8324445, 8324659), ('15', 8324248, 8324350), ('15', 8323652, 8323750), ('15', 8323409, 8323555), ('15', 8322486, 8322620), ('15', 8319457, 8319555), ('15', 8318363, 8318416), ('15', 8312334, 8312442), ('15', 8311145, 8311281), ('15', 8307846, 8307986), ('15', 8307565, 8307658), ('15', 8306870, 8307024), ('15', 8305849, 8305939), ('15', 8303393, 8303566), ('15', 8302836, 8303026), ('15', 8301290, 8301397), ('15', 8300695, 8300895), ('15', 8296732, 8296878), ('15', 8295511, 8295785), ('15', 8293084, 8293258), ('15', 8292137, 8292325), ('15', 8291225, 8291590)]}\n"
     ]
    }
   ],
   "source": [
    "def getGTFsubGeneEXON (gtf, output_name, GToutput, genes): \n",
    "    GenTransDict = obtainGenesAndLongestTranscripts (gtf, genes, GToutput)[0]\n",
    "    #print(obtainGenesAndLongestTranscripts (gtf, genes, GToutput)[1])\n",
    "    #print(GenTransDict)\n",
    "    with open (gtf, 'r') as S:\n",
    "        with open (output_name, 'w') as O:\n",
    "            for line in S:\n",
    "                if line.startswith('#'):\n",
    "                    continue\n",
    "                row = line.strip().split('\\t')\n",
    "                #if row[0] == '15' and row[2] == \"exon\":\n",
    "                if row[2] == \"exon\":\n",
    "                    infoList = [item.split('\"') for item in row[8].replace(' ','').split(';')[:-1]]\n",
    "                    info = {item[0]:item[1] for item in infoList}\n",
    "                    if 'gene_id' in info.keys():\n",
    "                        gID = info['gene_id']\n",
    "                        if gID in GenTransDict.keys() and info[\"transcript_id\"] == GenTransDict[gID]:\n",
    "                            #print(line)\n",
    "                            O.write(line)\n",
    "\n",
    "\n",
    "def getGTFsubGeneEXONonSegm (gtf, output_name, GToutput, chrom, I):\n",
    "    getGTFsubGeneEXON (gtf, output_name, GToutput, getGenesOnSegment(gtf,chrom,I))\n",
    "    \n",
    "#getGTFsubGeneEXONonSegm (\"Mus_musculus.GRCm38.68.gtf\", \"A\", \"C\", 15, [7811054, 8708742])"
   ]
  },
  {
   "cell_type": "code",
   "execution_count": 43,
   "metadata": {
    "collapsed": false
   },
   "outputs": [],
   "source": [
    "def StringSplitN (string, N):\n",
    "    newstr = ''\n",
    "    counter = 0  \n",
    "    for c in string:\n",
    "        if counter % N == 0:\n",
    "            newstr += '\\n'\n",
    "        newstr += c\n",
    "        counter += 1\n",
    "    return newstr"
   ]
  },
  {
   "cell_type": "code",
   "execution_count": 60,
   "metadata": {
    "collapsed": true
   },
   "outputs": [],
   "source": [
    "def GetTranscriptFasta (gID, trID, coords, fasta):\n",
    "    '''\n",
    "    Takes coordinates and returns subFASTA\n",
    "    '''\n",
    "    if not coords:\n",
    "        print('no intervals provided')\n",
    "        return \n",
    "    \n",
    "    chrom = coords[0][0]\n",
    "    coords = sorted(coords)\n",
    "    \n",
    "    transcript = ''\n",
    "    nR , nI = 0 , 0\n",
    "    \n",
    "    with open (fasta, 'r') as FA:\n",
    "        curchr , curtr = False , False\n",
    "        for line in FA:\n",
    "            if nI == len(coords):\n",
    "                break\n",
    "            if line.startswith('#'):\n",
    "                continue\n",
    "            elif line.startswith('>'):\n",
    "                if line.startswith('>'+chrom):\n",
    "                    print(\"scanning chromosome\")\n",
    "                    curchr = True\n",
    "                    continue\n",
    "                else:\n",
    "                    curchr = False\n",
    "                    continue\n",
    "            if not curchr:\n",
    "                continue\n",
    "\n",
    "            # well, you're on right chromosome:\n",
    "            if curtr:\n",
    "                if 60*nR < coords[nI][2] <= 60*(nR+1):\n",
    "                    transcript += line[: (coords[nI][2] - 1) % 60 + 1]\n",
    "                    curtr = False\n",
    "                    nI += 1\n",
    "                else: \n",
    "                    transcript += line.strip()\n",
    "            if not curtr:\n",
    "                while nI < len(coords) and 60*nR < coords[nI][1] <= 60*(nR+1):\n",
    "                    if coords[nI][1] < coords[nI][2] <= 60*(nR+1):\n",
    "                        transcript += line[(coords[nI][1] - 1) % 60 : ((coords[nI][2] - 1) % 60) + 1]\n",
    "                        nI += 1\n",
    "                    else:\n",
    "                        transcript += line.strip()[(coords[nI][1] - 1) % 60:]\n",
    "                        curtr = True\n",
    "                        break\n",
    "            nR += 1\n",
    "            \n",
    "    name = '>' + gID + ':' + trID\n",
    "    return name , transcript"
   ]
  },
  {
   "cell_type": "code",
   "execution_count": 63,
   "metadata": {
    "collapsed": true
   },
   "outputs": [],
   "source": [
    "def GetIntervalMRNAfasta(fasta, gtf, chrom, I, GLToutFile, subFastaFile):\n",
    "    GeneLongTrDict , TrCoords = obtainGenesAndLongestTranscripts(gtf,getGenesOnSegment(gtf,chrom,I),GLToutFile)\n",
    "    \n",
    "    with open (subFastaFile, 'w') as OUT:\n",
    "        for gID in GeneLongTrDict:\n",
    "            trID = GeneLongTrDict[gID]\n",
    "            coords = TrCoords[trID]\n",
    "            name , tr = GetTranscriptFasta (gID, trID, coords, fasta)\n",
    "            OUT.write(name + StringSplitN(tr, 60) + '\\n')            \n",
    "    print(\"fasta subfile is written\")"
   ]
  },
  {
   "cell_type": "code",
   "execution_count": 64,
   "metadata": {
    "collapsed": false
   },
   "outputs": [
    {
     "name": "stdout",
     "output_type": "stream",
     "text": [
      "scanning chromosome\n",
      "scanning chromosome\n",
      "scanning chromosome\n",
      "scanning chromosome\n",
      "scanning chromosome\n",
      "scanning chromosome\n",
      "scanning chromosome\n",
      "scanning chromosome\n",
      "scanning chromosome\n",
      "fasta subfile is written\n"
     ]
    }
   ],
   "source": [
    "fasta = \"CAST_pseudo_15.fa\"\n",
    "gtf , chrom, I = \"Mus_musculus.GRCm38.68.gtf\", '15', [7811054, 8708742]\n",
    "oGLToutFile, osubFastaFile = \"GT\" , \"A.fa\"\n",
    "GetIntervalMRNAfasta(fasta, gtf, chrom, I, oGLToutFile, osubFastaFile)"
   ]
  },
  {
   "cell_type": "code",
   "execution_count": null,
   "metadata": {
    "collapsed": true
   },
   "outputs": [],
   "source": [
    "'''\n",
    "\"--fasta\" -- path to fasta\n",
    "\"--gtf\" -- path to gtf file\n",
    "\"--chrom\" -- chromosome\n",
    "\"--s\",\"--e\" -- interval on chromosome\n",
    "\"--ofasta\" -- path to subfasta outbut\n",
    "\"--oGT\" -- path to file with pairs Gene '\\t' Longest Transcript\n",
    "'''\n",
    "\n",
    "def main():\n",
    "    \n",
    "    parser = argparse.ArgumentParser()\n",
    "    parser.add_argument(\"--fasta\", required=True, help=\"path to fasta\")\n",
    "    parser.add_argument(\"--gtf\", required=True, help=\"path to gtf file\")\n",
    "    parser.add_argument(\"--chrom\", required=True, help=\"cromosome\")\n",
    "    parser.add_argument(\"--s\", required=True, help=\"start position\")\n",
    "    parser.add_argument(\"--e\", required=True, help=\"end position\")\n",
    "    parser.add_argument(\"--ofasta\", required=True, help=\"path to subfasta outbut\")\n",
    "    parser.add_argument(\"--oGT\", required=True, help=\"path to file with pairs Gene '\\t' Longest Transcript\")\n",
    "    args = parser.parse_args()\n",
    "    \n",
    "    GetIntervalMRNAfasta(args.fasta, args.gtf, args.chrom, [int(args.s),int(args.e)], args.oGT, args.ofasta)\n",
    "    \n",
    "if __name__ == \"__main__\":\n",
    "    main()"
   ]
  }
 ],
 "metadata": {
  "anaconda-cloud": {},
  "kernelspec": {
   "display_name": "Python [default]",
   "language": "python",
   "name": "python3"
  },
  "language_info": {
   "codemirror_mode": {
    "name": "ipython",
    "version": 3
   },
   "file_extension": ".py",
   "mimetype": "text/x-python",
   "name": "python",
   "nbconvert_exporter": "python",
   "pygments_lexer": "ipython3",
   "version": "3.5.3"
  }
 },
 "nbformat": 4,
 "nbformat_minor": 1
}
