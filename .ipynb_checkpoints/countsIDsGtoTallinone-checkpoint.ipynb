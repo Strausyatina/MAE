{
 "cells": [
  {
   "cell_type": "code",
   "execution_count": 68,
   "metadata": {
    "collapsed": false
   },
   "outputs": [],
   "source": [
    "'''\n",
    "\"--GCMat\" -- gene counts matrix\n",
    "\"--gtf\" -- path to gtf file\n",
    "\"--trIDs\" -- path to file with column of transcripts\n",
    "\"--o\" -- path to folder for output, with no '/' at the end\n",
    "'''\n",
    "\n",
    "import argparse\n",
    "import re"
   ]
  },
  {
   "cell_type": "code",
   "execution_count": 69,
   "metadata": {
    "collapsed": false
   },
   "outputs": [],
   "source": [
    "def ObtainGCDict(GCMat):\n",
    "    res = {}\n",
    "    with open (GCMat, 'r') as f:\n",
    "        for line in f:\n",
    "            data = line.strip().split()\n",
    "            res[data[0]] = data[1]\n",
    "    return res\n",
    "\n",
    "#ObtainGCDict(\"/home/asya/Documents/MAE/SV1_AblY11_11_03_24_2015_R1_001_counts.txt\")"
   ]
  },
  {
   "cell_type": "code",
   "execution_count": 70,
   "metadata": {
    "collapsed": false
   },
   "outputs": [],
   "source": [
    "def ObtainTGDict(trIDs, gtf):\n",
    "    res = {}\n",
    "    with open (trIDs, 'r') as f:\n",
    "        with open (gtf, 'r') as g:\n",
    "            gtf_line = g.read()\n",
    "            for line in f:\n",
    "                tr = line.strip().split()[0]\n",
    "                if tr not in res: \n",
    "                    pattern = 'gene_id \"[a-zA-Z0-9_]*\"; transcript_id \"' + tr + '\"'\n",
    "                    gen = re.search(pattern, gtf_line).group(0).split('\"')[1]\n",
    "                    res[tr] = gen\n",
    "    return res\n",
    "\n",
    "#ObtainTGDict(\"ENSMUSG00000005360_test\", \"Mus_musculus.GRCm38.68.gtf\")"
   ]
  },
  {
   "cell_type": "code",
   "execution_count": 71,
   "metadata": {
    "collapsed": true
   },
   "outputs": [],
   "source": [
    "def CountsIDsGtoTallinone(GCMat, trIDs, gtf, ofolder):\n",
    "    GenCounts = ObtainGCDict(GCMat)\n",
    "    TrGen = ObtainTGDict(trIDs, gtf)\n",
    "    \n",
    "    with open(GCMat.split('.')[0] + '_TRANSCRIPT' + '.txt', 'w') as W:\n",
    "        for item in TrGen:\n",
    "            W.write(item + '\\t' + GenCounts[TrGen[item]] + '\\n')"
   ]
  },
  {
   "cell_type": "code",
   "execution_count": 72,
   "metadata": {
    "collapsed": false
   },
   "outputs": [
    {
     "name": "stderr",
     "output_type": "stream",
     "text": [
      "usage: __main__.py [-h] --GCMat GCMAT --gtf GTF --trIDs TRIDS --o O\n",
      "__main__.py: error: the following arguments are required: --GCMat, --gtf, --trIDs, --o\n"
     ]
    },
    {
     "ename": "SystemExit",
     "evalue": "2",
     "output_type": "error",
     "traceback": [
      "An exception has occurred, use %tb to see the full traceback.\n",
      "\u001b[0;31mSystemExit\u001b[0m\u001b[0;31m:\u001b[0m 2\n"
     ]
    },
    {
     "name": "stderr",
     "output_type": "stream",
     "text": [
      "/home/asya/anaconda3/lib/python3.5/site-packages/IPython/core/interactiveshell.py:2889: UserWarning: To exit: use 'exit', 'quit', or Ctrl-D.\n",
      "  warn(\"To exit: use 'exit', 'quit', or Ctrl-D.\", stacklevel=1)\n"
     ]
    }
   ],
   "source": [
    "def main():\n",
    "    \n",
    "    parser = argparse.ArgumentParser()\n",
    "    parser.add_argument(\"--GCMat\", required=True, help=\"path to gene counts matrix\")\n",
    "    parser.add_argument(\"--gtf\", required=True, help=\"path to gtf file\")\n",
    "    parser.add_argument(\"--trIDs\", required=True, help=\"path to file with column of transcripts\")\n",
    "    parser.add_argument(\"--o\", required=True, help=\"path to folder for output, with no '/' at the end\")\n",
    "    args = parser.parse_args()\n",
    "\n",
    "    CountsIDsGtoTallinone(args.GCMat, args.trIDs, args.gtf, args.o)\n",
    "    \n",
    "if __name__ == \"__main__\":\n",
    "    main()"
   ]
  },
  {
   "cell_type": "code",
   "execution_count": null,
   "metadata": {
    "collapsed": true
   },
   "outputs": [],
   "source": []
  }
 ],
 "metadata": {
  "anaconda-cloud": {},
  "kernelspec": {
   "display_name": "Python [default]",
   "language": "python",
   "name": "python3"
  },
  "language_info": {
   "codemirror_mode": {
    "name": "ipython",
    "version": 3
   },
   "file_extension": ".py",
   "mimetype": "text/x-python",
   "name": "python",
   "nbconvert_exporter": "python",
   "pygments_lexer": "ipython3",
   "version": "3.5.3"
  }
 },
 "nbformat": 4,
 "nbformat_minor": 1
}
